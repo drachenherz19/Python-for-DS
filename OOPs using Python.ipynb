{
 "cells": [
  {
   "cell_type": "markdown",
   "metadata": {
    "id": "qcJThsaFBqca"
   },
   "source": [
    "Q1. Write a Python program to demonstrate multiple inheritance.\n",
    "1. Employee class has 3 data members EmployeeID, Gender (String), Salary and\n",
    "PerformanceRating(Out of 5) of type int. It has a get() method to get these details from\n",
    "the user.\n",
    "2. JoiningDetail class has a data member DateOfJoining of type Date and a function\n",
    "getDoJ to get the Date of joining of employees.\n",
    "3. Information Class uses the marks from Employee class and the DateOfJoining date\n",
    "from the JoiningDetail class to calculate the top 3 Employees based on their Ratings\n",
    "and then Display, using readData, all the details on these employees in Ascending\n",
    "order of their Date Of Joining."
   ]
  },
  {
   "cell_type": "code",
   "execution_count": 6,
   "metadata": {
    "id": "3DXoeDS9Blje"
   },
   "outputs": [],
   "source": [
    "import pandas as pd\n",
    "import numpy as np\n",
    "import datetime as dt\n",
    "\n",
    "class Employee:\n",
    "  def __init__(self,EmployeeID,Gender,Salary,PerformanceRating):\n",
    "    self.EmployeeID = EmployeeID\n",
    "    self.Gender = Gender\n",
    "    self.Salary = Salary\n",
    "    self.PerformanceRating = PerformanceRating\n",
    "  def getDetails(self):\n",
    "    print(\"Employee id\",self.EmployeeID)\n",
    "    print(\"Salary id\",self.Salary)\n",
    "    print(\"Gender id\",self.Gender)\n",
    "    print(\"PerformanceRating\",self.PerformanceRating)\n",
    "\n",
    "class JoiningDetail:\n",
    "  def __init__(self,DateOfJoining):\n",
    "    self.DateOfJoining = DateOfJoining\n",
    "\n",
    "  def getDoJ(self):\n",
    "    print(\"Joining date\",self.DateOfJoining)\n",
    "\n",
    "class Information(Employee,JoiningDetail):\n",
    "  def __init__(self,EmployeeID,Gender,Salary,PerformanceRating,DateOfJoining):\n",
    "    Employee.__init__(self,EmployeeID,Gender,Salary,PerformanceRating)\n",
    "    JoiningDetail.__init__(self, DateOfJoining)\n",
    "\n",
    "  def get_details(self):\n",
    "    print(\"Employee id\",self.EmployeeID)\n",
    "    print(\"Salary id\",self.Salary)\n",
    "    print(\"Gender id\",self.Gender)\n",
    "    print(\"PerformanceRating\",self.PerformanceRating)\n",
    "    print(\"DateOfJoining\",self.DateOfJoining)"
   ]
  },
  {
   "cell_type": "code",
   "execution_count": 7,
   "metadata": {
    "colab": {
     "base_uri": "https://localhost:8080/"
    },
    "id": "e_SqExIqApxV",
    "outputId": "003ba610-1518-410d-f1b4-096c9b37df06"
   },
   "outputs": [
    {
     "name": "stdout",
     "output_type": "stream",
     "text": [
      "Enter the number of employees: 2\n",
      "Enter the ID number of the employee: 100\n",
      "Enter the gender of the employee: Female\n",
      "Enter the salary of the employee: 100000\n",
      "Enter the performance rating of the employee out of 5: 4\n",
      "Enter Date of Joining (as dd/mm/yyyy): 01/01/2000\n",
      "Enter the ID number of the employee: 101\n",
      "Enter the gender of the employee: Male\n",
      "Enter the salary of the employee: 90000\n",
      "Enter the performance rating of the employee out of 5: 4\n",
      "Enter Date of Joining (as dd/mm/yyyy): 02/02/2000\n",
      "Employee id 100\n",
      "Salary id 100000\n",
      "Gender id Female\n",
      "PerformanceRating 4\n",
      "DateOfJoining 2000-01-01\n",
      "\n",
      "Employee id 101\n",
      "Salary id 90000\n",
      "Gender id Male\n",
      "PerformanceRating 4\n",
      "DateOfJoining 2000-02-02\n",
      "\n"
     ]
    }
   ],
   "source": [
    "abc = []\n",
    "x=int(input('Enter the number of employees: '))\n",
    "\n",
    "for i in range(x):\n",
    "  empid=int(input('Enter the ID number of the employee: '))\n",
    "  gender=input('Enter the gender of the employee: ')\n",
    "  salary= input('Enter the salary of the employee: ')\n",
    "  pr=input('Enter the performance rating of the employee out of 5: ')\n",
    "  DateOfJoining = input(\"Enter Date of Joining (as dd/mm/yyyy): \")\n",
    "  DateOfJoining=dt.datetime.strptime(DateOfJoining,\"%d/%m/%Y\").date()\n",
    "  m = Information(empid,gender,salary,pr,DateOfJoining)\n",
    "  abc.append(m)\n",
    "\n",
    "for employee in abc:\n",
    "    employee.get_details()\n",
    "    print()"
   ]
  },
  {
   "cell_type": "markdown",
   "metadata": {
    "id": "_Q-ShVkqO5T9"
   },
   "source": [
    "Q.2 Write a Python program to demonstrate Polymorphism.\n",
    "1. Class Vehicle with a parameterized function Fare, that takes input value as fare and\n",
    "returns it to calling Objects.\n",
    "2. Create five separate variables Bus, Car, Train, Truck and Ship that call the Fare\n",
    "function.\n",
    "3. Use a third variable TotalFare to store the sum of fare for each Vehicle Type.\n",
    "4. Print the TotalFare."
   ]
  },
  {
   "cell_type": "code",
   "execution_count": 5,
   "metadata": {
    "colab": {
     "base_uri": "https://localhost:8080/"
    },
    "id": "zuNzWr2UjGjh",
    "outputId": "bd14f4ac-f745-4bd2-c93d-84cec5da0183"
   },
   "outputs": [
    {
     "name": "stdout",
     "output_type": "stream",
     "text": [
      "The total fare of all the vehicles is: 1000\n"
     ]
    }
   ],
   "source": [
    "class Vehicle:\n",
    "    def __init__(self,name):\n",
    "      self.name = name\n",
    "\n",
    "    def fare(self,fare):\n",
    "      self.fare = fare\n",
    "      return self.fare\n",
    "\n",
    "Bus = Vehicle('Bus').fare(200)\n",
    "Car = Vehicle('Car').fare(200)\n",
    "Train = Vehicle('Train').fare(200)\n",
    "Truck = Vehicle('Truck').fare(200)\n",
    "Ship = Vehicle('Ship').fare(200)\n",
    "\n",
    "TotalFare = Car + Bus + Train + Truck + Ship\n",
    "print('The total fare of all the vehicles is:',TotalFare)\n"
   ]
  },
  {
   "cell_type": "markdown",
   "metadata": {
    "id": "QomCd3eMnelD"
   },
   "source": [
    "Q3. Consider an ongoing test cricket series. Following are the names of the players and their\n",
    "scores in the test1 and 2.\n",
    "Test Match 1 :\n",
    "Dhoni : 56 , Balaji : 94\n",
    "Test Match 2 :\n",
    "Balaji : 80 , Dravid : 105\n",
    "Calculate the highest number of runs scored by an individual cricketer in both of the matches.\n",
    "Create a python function Max_Score (M) that reads a dictionary M that recognizes the player\n",
    "with the highest total score. This function will return ( Top player , Total Score ) . You can\n",
    "consider the Top player as String who is the highest scorer and Top score as Integer .\n",
    "Input : Max_Score({‘test1’:{‘Dhoni’:56, ‘Balaji : 85}, ‘test2’:{‘Dhoni’ 87, ‘Balaji’’:200}})\n",
    "Output : (‘Balaji ‘ , 200)"
   ]
  },
  {
   "cell_type": "code",
   "execution_count": null,
   "metadata": {
    "colab": {
     "base_uri": "https://localhost:8080/"
    },
    "id": "IVT2iFYvnS3o",
    "outputId": "ae65db99-9f1d-4de3-a717-2527b495f94c"
   },
   "outputs": [
    {
     "name": "stdout",
     "output_type": "stream",
     "text": [
      "Total Run Scored by Each Playes in 2 Tests: \n",
      "{'Dhoni': 143, 'Balaji': 285}\n",
      "Player With highest score\n",
      "('Balaji', 285)\n"
     ]
    }
   ],
   "source": [
    "M = {\"test1\": {'Dhoni': 56, \"Balaji\": 85}, 'test2': {'Dhoni': 87, 'Balaji': 200}}\n",
    "\n",
    "def Max_Score(d):\n",
    "    total = {}\n",
    "    for k in d.keys():\n",
    "        for n in d[k].keys():\n",
    "            if n in total.keys():\n",
    "                total[n] = total[n] + d[k][n]\n",
    "            else:\n",
    "                total[n] = d[k][n]\n",
    "    print(\"Total Run Scored by Each Playes in 2 Tests: \")\n",
    "    print(total)\n",
    "\n",
    "    print(\"Player With highest score\")\n",
    "    maxtotal = -1\n",
    "    for n in total.keys():\n",
    "        if total[n] > maxtotal:\n",
    "            maxname = n\n",
    "            maxtotal = total[n]\n",
    "\n",
    "    return (maxname, maxtotal)\n",
    "\n",
    "summary = Max_Score(M)\n",
    "print(summary)"
   ]
  },
  {
   "cell_type": "markdown",
   "metadata": {
    "id": "YcCtLaCetyuT"
   },
   "source": [
    "Q4. Create a simple Card game in which there are 8 cards which are randomly chosen from a\n",
    "deck. The first card is shown face up. The game asks the player to predict whether the next card\n",
    "in the selection will have a higher or lower value than the currently showing card.\n",
    "For example, say the card that’s shown is a 3. The player chooses “higher,” and the next card is\n",
    "shown. If that card has a higher value, the player is correct. In this example, if the player had\n",
    "chosen “lower,” they would have been incorrect. If the player guesses correctly, they get 20\n",
    "points. If they choose incorrectly, they lose 15 points. If the next card to be turned over has the\n",
    "same value as the previous card, the player is incorrect.\n",
    "\n"
   ]
  },
  {
   "cell_type": "code",
   "execution_count": 5,
   "metadata": {
    "colab": {
     "base_uri": "https://localhost:8080/"
    },
    "id": "-Y4fUM1Y5mtf",
    "outputId": "c182a7d0-3cad-407c-9acc-8df5683225d5"
   },
   "outputs": [
    {
     "name": "stdout",
     "output_type": "stream",
     "text": [
      "Hello! I am going to show you a card, guess whether the next card is higher or lower\n",
      "The first card value  is:   6\n",
      "Take a guess, is the next card higher or lower? \"h\" or \"l\"   : h\n",
      "card 2 value is   2\n",
      "you lose\n",
      "Total score is   -15\n",
      "the card was  2 Now, next card higher or lower?  h\n",
      "card 3 value is   5\n",
      "you won\n",
      "Total score is   5\n",
      "the card was  5 Now, next card higher or lower?  h\n",
      "card 4 value is   4\n",
      "you lose\n",
      "Total score is   -10\n",
      "the card was  4 Now, next card higher or lower?  h\n",
      "card 5 value is   4\n",
      "you lose\n",
      "Total score is   -25\n",
      "the card was  4 Now, next card higher or lower?  h\n",
      "card 6 value is   10\n",
      "you won\n",
      "Total score is   -5\n",
      "the card was  10 Now, next card higher or lower?  h\n",
      "card 7 value is   10\n",
      "you lose\n",
      "Total score is   -20\n",
      "the card was  10 Now, next card higher or lower?  h\n",
      "your 8 card, i.e 7 chances  are over\n",
      "Your total score is :  -20\n"
     ]
    }
   ],
   "source": [
    "\n",
    "import random\n",
    "guessesTaken = 1\n",
    "print('Hello! I am going to show you a card, guess whether the next card is higher or lower')\n",
    "number = random.randint(1,12)\n",
    "points=0\n",
    "\n",
    "print('The first card value  is:  ',number)\n",
    "guess = input('Take a guess, is the next card higher or lower? \"h\" or \"l\"   : ')\n",
    "\n",
    "while guessesTaken < 8: \n",
    "\n",
    "    if guessesTaken == 7:\n",
    "        print(\"your 8 card, i.e 7 chances  are over\")\n",
    "        print(\"Your total score is : \",points)\n",
    "        break\n",
    "    else:\n",
    "        nextnumber = random.randint(1,12)\n",
    "        print('card', guessesTaken+1,\"value is  \",nextnumber)\n",
    "\n",
    "        if guess == \"h\" and nextnumber <= number:\n",
    "            points-=15\n",
    "            print (\"you lose\")\n",
    "            \n",
    "        elif guess == \"h\" and nextnumber > number:\n",
    "            points+=20\n",
    "            print (\"you won\")\n",
    "            \n",
    "        elif guess == \"l\" and nextnumber >= number:\n",
    "            points-=15\n",
    "            print (\"you lose\")\n",
    "            \n",
    "        elif guess == \"l\" and nextnumber < number:\n",
    "            points+=20\n",
    "            print (\"you won\")\n",
    "            \n",
    "        print(\"Total score is  \",points)\n",
    "        guess = input(\"the card was  \" + str(nextnumber)+ \" Now, next card higher or lower?  \")\n",
    "\n",
    "        guessesTaken += 1 \n",
    "        number = nextnumber\n"
   ]
  },
  {
   "cell_type": "markdown",
   "metadata": {
    "id": "bdg186sqt20n"
   },
   "source": [
    "Q5. Create an empty dictionary called Car_0 . Then fill the dictionary with Keys : color , speed\n",
    ", X_position and Y_position.\n",
    "car_0 = {'x_position': 10, 'y_position': 72, 'speed': 'medium'} .\n",
    "a) If the speed is slow the coordinates of the X_pos get incremented by 2.\n",
    "b) If the speed is Medium the coordinates of the X_pos gets incremented by 9\n",
    "c) Now if the speed is Fast the coordinates of the X_pos gets incremented by 22.\n",
    "Print the modified dictionary.\n"
   ]
  },
  {
   "cell_type": "code",
   "execution_count": 36,
   "metadata": {
    "colab": {
     "base_uri": "https://localhost:8080/"
    },
    "id": "TCxwCr2bt4-h",
    "outputId": "65d9cf87-9566-4cb1-e934-1db4500a8241"
   },
   "outputs": [
    {
     "name": "stdout",
     "output_type": "stream",
     "text": [
      "{'x_position': [], 'y_position': [], 'speed': []}\n"
     ]
    }
   ],
   "source": [
    "Car_0 = {}\n",
    "Car_0 = {'x_position': 10, 'y_position': 72, 'speed': 'medium'}\n",
    "\n",
    "def speed(Car_0):\n",
    "  if Car_0['speed'] == 'slow':\n",
    "    Car_0['x_position'] += 2\n",
    "    return car_0\n",
    "\n",
    "  elif Car_0['speed'] == 'medium':\n",
    "    Car_0['x_position'] += 9\n",
    "    return Car_0\n",
    "\n",
    "  elif Car_0['speed'] == 'fast':\n",
    "    Car_0['x_position'] += 22\n",
    "    return Car_0\n",
    "\n",
    "  else:\n",
    "    print(\"please mention speed as slow, medium or fast\")\n",
    "  \n",
    "speed(Car_0)\n",
    "x = dict.fromkeys(['x_position', 'y_position', 'speed'], [])\n",
    "print(x)"
   ]
  },
  {
   "cell_type": "markdown",
   "metadata": {
    "id": "z57nllyzuJsu"
   },
   "source": [
    "Q8. Given a list of 50 natural numbers from 1-50. Create a function that will take every element\n",
    "from the list and return the square of each element. Use the python map and filter methods to\n",
    "implement the function on the given list.\n"
   ]
  },
  {
   "cell_type": "code",
   "execution_count": 29,
   "metadata": {
    "colab": {
     "base_uri": "https://localhost:8080/"
    },
    "id": "IHDbYyXcuKOw",
    "outputId": "ebd78ddd-e1f8-4697-94eb-d5e81cd46d81"
   },
   "outputs": [
    {
     "name": "stdout",
     "output_type": "stream",
     "text": [
      "[0, 1, 4, 9, 16, 25, 36, 49, 64, 81, 100, 121, 144, 169, 196, 225, 256, 289, 324, 361, 400, 441, 484, 529, 576, 625, 676, 729, 784, 841, 900, 961, 1024, 1089, 1156, 1225, 1296, 1369, 1444, 1521, 1600, 1681, 1764, 1849, 1936, 2025, 2116, 2209, 2304, 2401, 2500]\n"
     ]
    }
   ],
   "source": [
    "import numpy as np\n",
    "a = np.arange(0,51).tolist()\n",
    "\n",
    "def fun(n):\n",
    "  return n*n\n",
    "\n",
    "result = map(fun, a)\n",
    "print(list(result))"
   ]
  },
  {
   "cell_type": "markdown",
   "metadata": {
    "id": "v303yP6TuKt3"
   },
   "source": [
    "Q9. Create a class, Triangle. Its init() method should take self, angle1, angle2, and angle3 as\n",
    "arguments.\n"
   ]
  },
  {
   "cell_type": "code",
   "execution_count": 9,
   "metadata": {
    "id": "ix8aDanCuMsw"
   },
   "outputs": [],
   "source": [
    "class Triangle:\n",
    "    def __init__(self,angle1, angle2, angle3):\n",
    "      self.angle1 = angle1\n",
    "      self.angle2 = angle2\n",
    "      self.angle3 = angle3"
   ]
  },
  {
   "cell_type": "markdown",
   "metadata": {
    "id": "Gh3z_y28uNKa"
   },
   "source": [
    "Q10. Create a class variable named number_of_sides and set it equal to 3.\n"
   ]
  },
  {
   "cell_type": "code",
   "execution_count": 8,
   "metadata": {
    "id": "j1_b8rjouO8R"
   },
   "outputs": [],
   "source": [
    "class xyz:\n",
    "  def __init__(x,y):\n",
    "      self.x = x\n",
    "      self.y = y\n",
    "      number_of_sides=3"
   ]
  },
  {
   "cell_type": "markdown",
   "metadata": {
    "id": "PktknLi3uPSq"
   },
   "source": [
    "Q11. Create a method named check_angles. The sum of a triangle's three angles should return\n",
    "True if the sum is equal to 180, and False otherwise. The method should print whether the\n",
    "angles belong to a triangle or not."
   ]
  },
  {
   "cell_type": "code",
   "execution_count": 11,
   "metadata": {
    "id": "1EBFs0VDuQe_"
   },
   "outputs": [
    {
     "name": "stdout",
     "output_type": "stream",
     "text": [
      "Given angles do not belong to a triangle\n"
     ]
    }
   ],
   "source": [
    "class Triangle:\n",
    "  def __init__(self,angle1, angle2, angle3):\n",
    "      self.angle1 = angle1\n",
    "      self.angle2 = angle2\n",
    "      self.angle3 = angle3\n",
    "      number_of_sides=3\n",
    "\n",
    "  def check_angles(self):\n",
    "    if (self.angle1 + self.angle2 + self.angle3) == 180:\n",
    "      print('Given angles belong to a triangle')\n",
    "    else:\n",
    "      print('Given angles do not belong to a triangle')\n",
    "test = Triangle(10,10,80)\n",
    "test.check_angles()"
   ]
  },
  {
   "cell_type": "markdown",
   "metadata": {
    "id": "ybC1yMJtuQ74"
   },
   "source": [
    "11.1 Write methods to verify if the triangle is an acute triangle or obtuse triangle.\n",
    "\n",
    "11.2 Create an instance of the triangle class and call all the defined methods.\n",
    "\n",
    "\n",
    "\n",
    "\n"
   ]
  },
  {
   "cell_type": "code",
   "execution_count": 15,
   "metadata": {
    "id": "6ueK2M0juTFv"
   },
   "outputs": [],
   "source": [
    "class Triangle:\n",
    "  def __init__(self,angle1, angle2, angle3):\n",
    "      self.angle1 = angle1\n",
    "      self.angle2 = angle2\n",
    "      self.angle3 = angle3\n",
    "      number_of_sides=3\n",
    "    \n",
    "  def triangle_type(self):\n",
    "    if self.angle1>90 or self.angle2>90 or self.angle3>90:\n",
    "      print('obtuse angled triangle')\n",
    "    elif self.angle1<90 and self.angle2<90 and self.angle3<90:\n",
    "      print('acute angled triangle') \n",
    "    elif self.angle1==90 or self.angle2==90 or self.angle3==90:\n",
    "      print('right angled triangle')    "
   ]
  },
  {
   "cell_type": "code",
   "execution_count": 17,
   "metadata": {
    "colab": {
     "base_uri": "https://localhost:8080/"
    },
    "id": "RIvxj_xHzwDA",
    "outputId": "fe6945b3-74ac-4a5f-f3cb-f7bd34d14360"
   },
   "outputs": [
    {
     "name": "stdout",
     "output_type": "stream",
     "text": [
      "right angled triangle\n"
     ]
    }
   ],
   "source": [
    "test = Triangle(90,10,80)\n",
    "test.triangle_type()"
   ]
  },
  {
   "cell_type": "markdown",
   "metadata": {
    "id": "K-EnIvN26Wl7"
   },
   "source": [
    "11.3 Create three child classes of triangle class - isosceles_triangle, right_triangle and equilateral_triangle\n",
    "\n",
    "11.4 Define methods which check for their properties."
   ]
  },
  {
   "cell_type": "code",
   "execution_count": 22,
   "metadata": {
    "id": "-7MNQZeh0Eej"
   },
   "outputs": [],
   "source": [
    "class isosceles_triangle(Triangle):\n",
    "  def triangle_type(self):\n",
    "    if self.angle1==self.angle2 or self.angle2==self.angle3 or self.angle1==self.angle3:\n",
    "      print('This is an isosceles triangle')\n",
    "      return True\n",
    "    else:\n",
    "      print('This is not an isosceles triangle')\n",
    "      return False\n",
    "      \n",
    "\n",
    "class right_triangle(Triangle):\n",
    "  def triangle_type(self):\n",
    "    if self.angle1==90 or self.angle2==90 or self.angle1==90:\n",
    "      print('This is a right angled triangle')\n",
    "      return True\n",
    "    else:\n",
    "      print('This is not a right angled triangle')\n",
    "      return False  \n",
    "\n",
    "class equilateral_triangle(Triangle):\n",
    "  def triangle_type(self):\n",
    "    if self.angle1==60 and self.angle2==60 and self.angle1==60:\n",
    "      print('This is an equilateral triangle')\n",
    "      return True   \n",
    "    else:\n",
    "      print('This is not an equilateral triangle')\n",
    "      return False"
   ]
  },
  {
   "cell_type": "code",
   "execution_count": 23,
   "metadata": {
    "colab": {
     "base_uri": "https://localhost:8080/"
    },
    "id": "zQOFIGqs5yq9",
    "outputId": "36059741-fcc0-4680-b94f-2bdc40c51da3"
   },
   "outputs": [
    {
     "name": "stdout",
     "output_type": "stream",
     "text": [
      "This is not an equilateral triangle\n"
     ]
    },
    {
     "data": {
      "text/plain": [
       "False"
      ]
     },
     "execution_count": 23,
     "metadata": {},
     "output_type": "execute_result"
    }
   ],
   "source": [
    "equilateral_triangle(60,80,60).triangle_type()"
   ]
  },
  {
   "cell_type": "markdown",
   "metadata": {
    "id": "HdRuez5kuTgr"
   },
   "source": [
    "Q12. Create a class isosceles_right_triangle which inherits from isosceles_triangle and\n",
    "right_triangle.\n",
    "12.1 Define methods which check for their properties"
   ]
  },
  {
   "cell_type": "code",
   "execution_count": 24,
   "metadata": {
    "id": "Fa087aU7uW2D"
   },
   "outputs": [],
   "source": [
    "class iscosceles_right_triangle(isosceles_triangle,right_triangle):\n",
    "  def triangle_property(self):\n",
    "    if isosceles_triangle(self.angle1,self.angle2,self.angle3).triangle_type()  and right_triangle(self.angle1,self.angle2,self.angle3).triangle_type() == True:\n",
    "      print(\"this is an isosceles triangle and a right angled triangle\")\n",
    "    else:\n",
    "      print('This is not both- an isosceles and a right angled triangle')"
   ]
  },
  {
   "cell_type": "code",
   "execution_count": 25,
   "metadata": {
    "colab": {
     "base_uri": "https://localhost:8080/"
    },
    "id": "zv81qfbr1EBA",
    "outputId": "a11f26b2-f8dd-47bc-d6c5-902da5f6a494"
   },
   "outputs": [
    {
     "name": "stdout",
     "output_type": "stream",
     "text": [
      "This is an isosceles triangle\n",
      "This is not a right angled triangle\n",
      "This is not both- an isosceles and a right angled triangle\n"
     ]
    }
   ],
   "source": [
    "iscosceles_right_triangle(60,70,60).triangle_property()"
   ]
  }
 ],
 "metadata": {
  "colab": {
   "collapsed_sections": [],
   "provenance": []
  },
  "kernelspec": {
   "display_name": "Python 3",
   "language": "python",
   "name": "python3"
  },
  "language_info": {
   "codemirror_mode": {
    "name": "ipython",
    "version": 3
   },
   "file_extension": ".py",
   "mimetype": "text/x-python",
   "name": "python",
   "nbconvert_exporter": "python",
   "pygments_lexer": "ipython3",
   "version": "3.8.8"
  }
 },
 "nbformat": 4,
 "nbformat_minor": 1
}
