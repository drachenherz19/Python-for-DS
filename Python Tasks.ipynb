{
 "cells": [
  {
   "cell_type": "markdown",
   "id": "364b5c86",
   "metadata": {},
   "source": [
    "#### 1. For a given list that contains numbers from 1 to 20. Using a for loop, create a new list that contains the square of each element from the given list."
   ]
  },
  {
   "cell_type": "code",
   "execution_count": 1,
   "id": "ec62e1f5",
   "metadata": {},
   "outputs": [
    {
     "name": "stdout",
     "output_type": "stream",
     "text": [
      "[1, 2, 3, 4, 5, 6, 7, 8, 9, 10, 11, 12, 13, 14, 15, 16, 17, 18, 19, 20]\n",
      "[1, 4, 9, 16, 25, 36, 49, 64, 81, 100, 121, 144, 169, 196, 225, 256, 289, 324, 361, 400]\n"
     ]
    }
   ],
   "source": [
    "abc = list()            #Can also use l=list(range(1,21))\n",
    "for x in range (1,21):\n",
    "    abc.append(x)\n",
    "print (abc)\n",
    "\n",
    "abc2 = list()\n",
    "for y in range (1,21):\n",
    "    abc2.append (y*y)\n",
    "print (abc2)"
   ]
  },
  {
   "cell_type": "markdown",
   "id": "997ddb87",
   "metadata": {},
   "source": [
    "#### 2. For a given dictionary that contains numbers from 1-10 as keys, and their square as values, display each key-value pair using a for loop"
   ]
  },
  {
   "cell_type": "code",
   "execution_count": 2,
   "id": "ba75a00f",
   "metadata": {},
   "outputs": [
    {
     "name": "stdout",
     "output_type": "stream",
     "text": [
      "{1: 1}\n",
      "{2: 4}\n",
      "{3: 9}\n",
      "{4: 16}\n",
      "{5: 25}\n",
      "{6: 36}\n",
      "{7: 49}\n",
      "{8: 64}\n",
      "{9: 81}\n",
      "{10: 100}\n"
     ]
    }
   ],
   "source": [
    " for x in range (1,11):  #Or use d={i=i**2 for x in range(1,11):}\n",
    "    dict1= {x:x**2}\n",
    "    print (dict1)"
   ]
  },
  {
   "cell_type": "markdown",
   "id": "99dfbe02",
   "metadata": {},
   "source": [
    "#### 3. A tuple contains even numbers from 1-20. Display all the items in a tuple using a for loop."
   ]
  },
  {
   "cell_type": "code",
   "execution_count": 3,
   "id": "8a3c183f",
   "metadata": {},
   "outputs": [
    {
     "name": "stdout",
     "output_type": "stream",
     "text": [
      "(2, 4, 6, 8, 10, 12, 14, 16, 18, 20)\n"
     ]
    }
   ],
   "source": [
    "lis1 = list()\n",
    "for x in range (1,21):\n",
    "    if x%2==0:\n",
    "        lis1.append(x)\n",
    "tup1 = tuple(lis1)\n",
    "print (tup1)"
   ]
  },
  {
   "cell_type": "markdown",
   "id": "166de7b6",
   "metadata": {},
   "source": [
    "#### 4. A set contains odd numbers from 1-20. Display the items in a set using a for loop."
   ]
  },
  {
   "cell_type": "code",
   "execution_count": 4,
   "id": "53704dbb",
   "metadata": {},
   "outputs": [
    {
     "name": "stdout",
     "output_type": "stream",
     "text": [
      "{1, 3, 5, 7, 9, 11, 13, 15, 17, 19}\n"
     ]
    }
   ],
   "source": [
    "set1 = set()\n",
    "for x in range (1,21):\n",
    "    if x%2==1:\n",
    "        set1.add(x)\n",
    "print(set1)"
   ]
  },
  {
   "cell_type": "markdown",
   "id": "530a072c",
   "metadata": {},
   "source": [
    "#### 5. For a given sequence of nested lists, display the elements using a for loop. a = [[1,2],[3,4],[5,6],[7,8]]"
   ]
  },
  {
   "cell_type": "code",
   "execution_count": 5,
   "id": "0fce6a1b",
   "metadata": {},
   "outputs": [
    {
     "name": "stdout",
     "output_type": "stream",
     "text": [
      "1\n",
      "2\n",
      "3\n",
      "4\n",
      "5\n",
      "6\n",
      "7\n",
      "8\n"
     ]
    }
   ],
   "source": [
    "a=[[1,2],[3,4],[5,6],[7,8]]\n",
    "for i in a:\n",
    "    for j in i:\n",
    "        print (j)"
   ]
  },
  {
   "cell_type": "markdown",
   "id": "a916bbf3",
   "metadata": {},
   "source": [
    "#### 6. For a given sequence of nested dictionaries, display all the values in the dictionary. a = {1: {'one':1}, 2: {'two':2}, 3: {'three':3}}"
   ]
  },
  {
   "cell_type": "code",
   "execution_count": 6,
   "id": "55aa1a1b",
   "metadata": {},
   "outputs": [
    {
     "name": "stdout",
     "output_type": "stream",
     "text": [
      "one\n",
      "two\n",
      "three\n"
     ]
    }
   ],
   "source": [
    "a = {1:{\"one\"}, 2:{\"two\"}, 3:{\"three\"}}\n",
    "for i in a.values():\n",
    "    for j in i:\n",
    "        print(j)\n"
   ]
  },
  {
   "cell_type": "markdown",
   "id": "76bc4076",
   "metadata": {},
   "source": [
    "#### 7. For a given list of natural numbers from 1-100, using the while loop, print only the numbers that are divisible by 2."
   ]
  },
  {
   "cell_type": "code",
   "execution_count": null,
   "id": "1b3c5326",
   "metadata": {},
   "outputs": [],
   "source": [
    "j=1\n",
    "while j <101:\n",
    "    if j%2==0:\n",
    "        print(j)"
   ]
  },
  {
   "cell_type": "markdown",
   "id": "a34510fe",
   "metadata": {},
   "source": [
    "#### 8. Print the first 5 multiples of 3 using a while loop."
   ]
  },
  {
   "cell_type": "code",
   "execution_count": null,
   "id": "28b4bbbe",
   "metadata": {},
   "outputs": [],
   "source": [
    "i=1\n",
    "while i<6:\n",
    "    print(i*3)\n",
    "    i=i+1"
   ]
  },
  {
   "cell_type": "markdown",
   "id": "46a77ba0",
   "metadata": {},
   "source": [
    "#### 9. For a given dictionary that contains the first 10 natural numbers as keys, and their cubes as values, display the key value pairs using a while loop."
   ]
  },
  {
   "cell_type": "code",
   "execution_count": 1,
   "id": "86c9ea12",
   "metadata": {},
   "outputs": [
    {
     "name": "stdout",
     "output_type": "stream",
     "text": [
      "key:  1 value:  1\n",
      "key:  2 value:  8\n",
      "key:  3 value:  27\n",
      "key:  4 value:  64\n",
      "key:  5 value:  125\n",
      "key:  6 value:  216\n",
      "key:  7 value:  343\n",
      "key:  8 value:  512\n",
      "key:  9 value:  729\n",
      "key:  10 value:  1000\n"
     ]
    }
   ],
   "source": [
    "d1 = {i: i*i*i for i in range(1,11)}\n",
    "count=1\n",
    "while count<=len(d1):\n",
    "    print(\"key: \",count, \"value: \", d1.get(count) )\n",
    "    count=count+1"
   ]
  },
  {
   "cell_type": "markdown",
   "id": "6b858541",
   "metadata": {},
   "source": [
    "#### 10. Write a program using a while loop demonstrating the usage of break, continue and pass statements along with if else statements."
   ]
  },
  {
   "cell_type": "code",
   "execution_count": null,
   "id": "840deb52",
   "metadata": {},
   "outputs": [],
   "source": [
    "i=0\n",
    "while (i<10):\n",
    "    i=i+1\n",
    "    if i==3:\n",
    "        continue\n",
    "    if i==7:\n",
    "        pass\n",
    "    if i==4:\n",
    "        break\n",
    "    print(i)"
   ]
  },
  {
   "cell_type": "markdown",
   "id": "3b31c7fb",
   "metadata": {},
   "source": [
    "#### 11. Write a program using a for loop demonstrating the usage of break, continue and pass statements along with if else statements."
   ]
  },
  {
   "cell_type": "code",
   "execution_count": null,
   "id": "86085647",
   "metadata": {},
   "outputs": [],
   "source": [
    "for i in range (1,10):\n",
    "    i=i+1\n",
    "    if i==3:\n",
    "        continue\n",
    "    if i==7:\n",
    "        pass\n",
    "    if i==4:\n",
    "        break\n",
    "    print(i)"
   ]
  },
  {
   "cell_type": "markdown",
   "id": "efe30b82",
   "metadata": {},
   "source": [
    "#### 12. Create a nested for loop to print a pyramid pattern program in python."
   ]
  },
  {
   "cell_type": "code",
   "execution_count": null,
   "id": "1de9569b",
   "metadata": {},
   "outputs": [],
   "source": [
    "for i in range (1,7):\n",
    "    for j in range (1,i+1):\n",
    "        print('*',end='')\n",
    "    print()"
   ]
  }
 ],
 "metadata": {
  "kernelspec": {
   "display_name": "Python 3",
   "language": "python",
   "name": "python3"
  },
  "language_info": {
   "codemirror_mode": {
    "name": "ipython",
    "version": 3
   },
   "file_extension": ".py",
   "mimetype": "text/x-python",
   "name": "python",
   "nbconvert_exporter": "python",
   "pygments_lexer": "ipython3",
   "version": "3.8.8"
  }
 },
 "nbformat": 4,
 "nbformat_minor": 5
}
