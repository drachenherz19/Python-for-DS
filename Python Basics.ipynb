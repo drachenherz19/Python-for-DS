{
 "cells": [
  {
   "cell_type": "code",
   "execution_count": 2,
   "id": "600ea8be",
   "metadata": {},
   "outputs": [
    {
     "data": {
      "text/plain": [
       "12"
      ]
     },
     "execution_count": 2,
     "metadata": {},
     "output_type": "execute_result"
    }
   ],
   "source": [
    "abc12 = 12\n",
    "abc12"
   ]
  },
  {
   "cell_type": "code",
   "execution_count": 7,
   "id": "49a5fd68",
   "metadata": {},
   "outputs": [
    {
     "data": {
      "text/plain": [
       "(1, 2, 'python')"
      ]
     },
     "execution_count": 7,
     "metadata": {},
     "output_type": "execute_result"
    }
   ],
   "source": [
    "#creation of data structures\n",
    "l=[]\n",
    "l=list()\n",
    "l=[1,2,'python', True]\n",
    "\n",
    "t=(1,2,'python')\n",
    "t"
   ]
  },
  {
   "cell_type": "code",
   "execution_count": 9,
   "id": "9c1b8cb9",
   "metadata": {},
   "outputs": [
    {
     "data": {
      "text/plain": [
       "3"
      ]
     },
     "execution_count": 9,
     "metadata": {},
     "output_type": "execute_result"
    }
   ],
   "source": [
    "arr1 = ['abc', 'esa', 'sds']\n",
    "len(arr1)"
   ]
  },
  {
   "cell_type": "code",
   "execution_count": 22,
   "id": "269d9c24",
   "metadata": {},
   "outputs": [
    {
     "data": {
      "text/plain": [
       "'Palin'"
      ]
     },
     "execution_count": 22,
     "metadata": {},
     "output_type": "execute_result"
    }
   ],
   "source": [
    "str='Palindrome'\n",
    "str[0:5:1]\n"
   ]
  },
  {
   "cell_type": "code",
   "execution_count": 26,
   "id": "c6f6b97c",
   "metadata": {},
   "outputs": [
    {
     "data": {
      "text/plain": [
       "[43, 1]"
      ]
     },
     "execution_count": 26,
     "metadata": {},
     "output_type": "execute_result"
    }
   ],
   "source": [
    "l=[23,43,231,1,23]\n",
    "l[1:4:2]"
   ]
  },
  {
   "cell_type": "code",
   "execution_count": 27,
   "id": "73720a7c",
   "metadata": {},
   "outputs": [
    {
     "data": {
      "text/plain": [
       "'nohtyp'"
      ]
     },
     "execution_count": 27,
     "metadata": {},
     "output_type": "execute_result"
    }
   ],
   "source": [
    "#negative indexing\n",
    "str1='python'\n",
    "str1[::-1]"
   ]
  },
  {
   "cell_type": "code",
   "execution_count": 31,
   "id": "1b76f4ab",
   "metadata": {
    "scrolled": true
   },
   "outputs": [
    {
     "data": {
      "text/plain": [
       "[5, 3, 1]"
      ]
     },
     "execution_count": 31,
     "metadata": {},
     "output_type": "execute_result"
    }
   ],
   "source": [
    "dfgs=[1,2,3,4,]5\n",
    "dfgs[::-2]"
   ]
  },
  {
   "cell_type": "code",
   "execution_count": 33,
   "id": "3bf7c482",
   "metadata": {},
   "outputs": [
    {
     "name": "stdout",
     "output_type": "stream",
     "text": [
      "95\n"
     ]
    }
   ],
   "source": [
    "#creation of user defined functions\n",
    "a=45 #a global variable\n",
    "def f1():\n",
    "    x=25 #a local variable\n",
    "    y=25 #also a local variable\n",
    "    z=x+y+a #yep, local\n",
    "    print(z)\n",
    "\n",
    "f1()  "
   ]
  },
  {
   "cell_type": "code",
   "execution_count": null,
   "id": "fa7e37c1",
   "metadata": {},
   "outputs": [],
   "source": []
  }
 ],
 "metadata": {
  "kernelspec": {
   "display_name": "Python 3",
   "language": "python",
   "name": "python3"
  },
  "language_info": {
   "codemirror_mode": {
    "name": "ipython",
    "version": 3
   },
   "file_extension": ".py",
   "mimetype": "text/x-python",
   "name": "python",
   "nbconvert_exporter": "python",
   "pygments_lexer": "ipython3",
   "version": "3.8.8"
  }
 },
 "nbformat": 4,
 "nbformat_minor": 5
}
