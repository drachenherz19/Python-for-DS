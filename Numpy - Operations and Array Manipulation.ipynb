{
 "cells": [
  {
   "cell_type": "code",
   "execution_count": 1,
   "metadata": {},
   "outputs": [
    {
     "name": "stdout",
     "output_type": "stream",
     "text": [
      "[1 2 3]\n",
      "[[1 2 3]\n",
      " [4 5 6]]\n",
      "[[0. 0. 0. 0.]\n",
      " [0. 0. 0. 0.]\n",
      " [0. 0. 0. 0.]]\n",
      "[1 4 7]\n",
      "[10 12 14 16 18]\n",
      "[ 1.          7.33333333 13.66666667 20.        ]\n",
      "[[6 6 6]\n",
      " [6 6 6]]\n",
      "[[0.19070603 0.43707842 0.28355015 0.05019296 0.26113556 0.682333\n",
      "  0.81336311 0.83318662 0.28105374 0.24691074 0.60066179 0.16102948]\n",
      " [0.41210892 0.1352005  0.68687004 0.16088727 0.9946058  0.99344148\n",
      "  0.25480357 0.45584719 0.25896187 0.38974506 0.91011905 0.9832167 ]\n",
      " [0.56885179 0.4480689  0.10835649 0.99279679 0.60450938 0.62789021\n",
      "  0.23576765 0.25030059 0.41181041 0.81712353 0.43275361 0.74809564]\n",
      " [0.59050375 0.90039894 0.50053829 0.37989428 0.83750175 0.90210756\n",
      "  0.61974617 0.6271147  0.32847733 0.56073374 0.6634392  0.27958599]\n",
      " [0.27181287 0.58387691 0.88344059 0.53507877 0.28036598 0.60983003\n",
      "  0.64870717 0.32112928 0.44662937 0.88185186 0.55846321 0.63173044]\n",
      " [0.99144313 0.26737765 0.98138226 0.68221156 0.07910652 0.8774451\n",
      "  0.12139387 0.04752029 0.41546758 0.57262966 0.71854127 0.18088717]\n",
      " [0.24338466 0.19657108 0.74095674 0.08445182 0.73501349 0.46810936\n",
      "  0.06024346 0.28089999 0.78236702 0.78507911 0.68875578 0.7986842 ]\n",
      " [0.64629928 0.96167401 0.96945064 0.39077104 0.79224977 0.8185278\n",
      "  0.29882418 0.98465249 0.72456999 0.19166112 0.64509803 0.56105908]\n",
      " [0.83248471 0.30302085 0.8798203  0.71419579 0.56721505 0.29961458\n",
      "  0.52054847 0.04172758 0.72393933 0.01582086 0.42056437 0.71470808]\n",
      " [0.05225508 0.35879281 0.27949327 0.56884866 0.94889771 0.06160904\n",
      "  0.47348026 0.47302911 0.52021748 0.50532378 0.00440769 0.16722553]]\n"
     ]
    }
   ],
   "source": [
    "\n",
    "import numpy as np\n",
    "#1 Dimensional Array:\n",
    "a = np.array([1,2,3])\n",
    "print(a)\n",
    "#2 Dimensional Array:\n",
    "b = np.array([[1,2,3],[4,5,6]])\n",
    "print(b)\n",
    "#3x4 array of zeroes:\n",
    "c = np.zeros((3,4))\n",
    "print(c)\n",
    "#Arrange numbers between lower (1) and upper limit (10) with an interval of 3:\n",
    "d = np.arange(1,10,3)\n",
    "print(d)\n",
    "#Printing even numbers between 10 and 20:\n",
    "x = np.arange(10,20,2)\n",
    "print(x)\n",
    "#Arrange 'x' numbers with equal spacing between lower (1) and upper (20) limit:\n",
    "y = np.linspace(1,20,4)\n",
    "print(y)\n",
    "#Have an array of the same value:\n",
    "z = np.full((2,3),6)\n",
    "print(z)\n",
    "#Fill array of any size with random values:\n",
    "o = np.random.random((10, 12))\n",
    "print(o)"
   ]
  },
  {
   "cell_type": "code",
   "execution_count": 2,
   "metadata": {},
   "outputs": [
    {
     "name": "stdout",
     "output_type": "stream",
     "text": [
      "1\n"
     ]
    },
    {
     "data": {
      "text/plain": [
       "array([[[ 0,  1,  2],\n",
       "        [ 3,  4,  5],\n",
       "        [ 6,  7,  8],\n",
       "        [ 9, 10, 11]],\n",
       "\n",
       "       [[12, 13, 14],\n",
       "        [15, 16, 17],\n",
       "        [18, 19, 20],\n",
       "        [21, 22, 23]]])"
      ]
     },
     "execution_count": 2,
     "metadata": {},
     "output_type": "execute_result"
    }
   ],
   "source": [
    "a = np.arange(24)\n",
    "a\n",
    "print (a.ndim)\n",
    "#reshaping this array\n",
    "b = a.reshape(2,4,3)\n",
    "b"
   ]
  },
  {
   "cell_type": "code",
   "execution_count": 3,
   "metadata": {},
   "outputs": [
    {
     "name": "stdout",
     "output_type": "stream",
     "text": [
      "25\n"
     ]
    }
   ],
   "source": [
    "a = np.arange(25)\n",
    "print(a.size)"
   ]
  },
  {
   "cell_type": "code",
   "execution_count": 4,
   "metadata": {},
   "outputs": [
    {
     "name": "stdout",
     "output_type": "stream",
     "text": [
      "15\n",
      "int32\n"
     ]
    }
   ],
   "source": [
    "d= np.array([[1,2,3,4,5],[0,1,4,5,6],[7,8,9,101,11]])\n",
    "print(d.size)\n",
    "print(d.dtype)"
   ]
  },
  {
   "cell_type": "code",
   "execution_count": 5,
   "metadata": {},
   "outputs": [
    {
     "name": "stdout",
     "output_type": "stream",
     "text": [
      "[ 0.  1.  2.  3.  4.  5.  6.  7.  8.  9. 10. 11. 12. 13. 14. 15. 16. 17.\n",
      " 18. 19. 20. 21. 22. 23.] float64\n"
     ]
    }
   ],
   "source": [
    "e = np.arange(24, dtype=float)\n",
    "print(e, e.dtype)"
   ]
  },
  {
   "cell_type": "code",
   "execution_count": 6,
   "metadata": {},
   "outputs": [
    {
     "data": {
      "text/plain": [
       "30"
      ]
     },
     "execution_count": 6,
     "metadata": {},
     "output_type": "execute_result"
    }
   ],
   "source": [
    "np.sum([10,20])"
   ]
  },
  {
   "cell_type": "code",
   "execution_count": 7,
   "metadata": {},
   "outputs": [
    {
     "data": {
      "text/plain": [
       "120"
      ]
     },
     "execution_count": 7,
     "metadata": {},
     "output_type": "execute_result"
    }
   ],
   "source": [
    "v, b=50,70\n",
    "np.sum([v,b])"
   ]
  },
  {
   "cell_type": "code",
   "execution_count": 8,
   "metadata": {},
   "outputs": [
    {
     "data": {
      "text/plain": [
       "array([6, 8])"
      ]
     },
     "execution_count": 8,
     "metadata": {},
     "output_type": "execute_result"
    }
   ],
   "source": [
    "np.sum([[1,2],[5,6]], axis=0)"
   ]
  },
  {
   "cell_type": "code",
   "execution_count": 9,
   "metadata": {},
   "outputs": [
    {
     "data": {
      "text/plain": [
       "array([11, 14, 17])"
      ]
     },
     "execution_count": 9,
     "metadata": {},
     "output_type": "execute_result"
    }
   ],
   "source": [
    "np.sum([[1,2,3],[4,5,6],[6,7,8]], axis = 0)"
   ]
  },
  {
   "cell_type": "code",
   "execution_count": 10,
   "metadata": {},
   "outputs": [
    {
     "data": {
      "text/plain": [
       "True"
      ]
     },
     "execution_count": 10,
     "metadata": {},
     "output_type": "execute_result"
    }
   ],
   "source": [
    "#Array comparision\n",
    "a = [10,2,3]\n",
    "b= [6,7,8]\n",
    "c = [10,2,3]\n",
    "np.array_equal(a,c)"
   ]
  },
  {
   "cell_type": "code",
   "execution_count": 11,
   "metadata": {},
   "outputs": [
    {
     "name": "stdout",
     "output_type": "stream",
     "text": [
      "Sum:  15\n",
      "Mean:  5.0\n",
      "Median:  3.0\n",
      "Standard Deviation:  3.559026084010437\n"
     ]
    }
   ],
   "source": [
    "print(\"Sum: \", np.sum(a))\n",
    "print(\"Mean: \", np.mean(a))\n",
    "print(\"Median: \", np.median(a))\n",
    "print(\"Standard Deviation: \", np.std(a))"
   ]
  },
  {
   "cell_type": "code",
   "execution_count": 12,
   "metadata": {},
   "outputs": [
    {
     "data": {
      "text/plain": [
       "array([10,  2,  3,  6,  7,  8])"
      ]
     },
     "execution_count": 12,
     "metadata": {},
     "output_type": "execute_result"
    }
   ],
   "source": [
    "np.hstack((a,b))"
   ]
  },
  {
   "cell_type": "code",
   "execution_count": 13,
   "metadata": {},
   "outputs": [
    {
     "data": {
      "text/plain": [
       "array([[10,  2,  3],\n",
       "       [ 6,  7,  8]])"
      ]
     },
     "execution_count": 13,
     "metadata": {},
     "output_type": "execute_result"
    }
   ],
   "source": [
    "np.vstack((a,b))"
   ]
  },
  {
   "cell_type": "code",
   "execution_count": 14,
   "metadata": {},
   "outputs": [
    {
     "data": {
      "text/plain": [
       "array([[10,  2,  3],\n",
       "       [ 6,  7,  8]])"
      ]
     },
     "execution_count": 14,
     "metadata": {},
     "output_type": "execute_result"
    }
   ],
   "source": [
    "np.row_stack((a,b))"
   ]
  },
  {
   "cell_type": "code",
   "execution_count": 15,
   "metadata": {},
   "outputs": [
    {
     "data": {
      "text/plain": [
       "array([[10,  6],\n",
       "       [ 2,  7],\n",
       "       [ 3,  8]])"
      ]
     },
     "execution_count": 15,
     "metadata": {},
     "output_type": "execute_result"
    }
   ],
   "source": [
    "np.column_stack((a,b))"
   ]
  },
  {
   "cell_type": "code",
   "execution_count": 16,
   "metadata": {},
   "outputs": [
    {
     "name": "stdout",
     "output_type": "stream",
     "text": [
      "[array([[0, 1],\n",
      "       [2, 3],\n",
      "       [4, 5],\n",
      "       [6, 7]]), array([[ 8,  9],\n",
      "       [10, 11],\n",
      "       [12, 13],\n",
      "       [14, 15]])]\n"
     ]
    }
   ],
   "source": [
    "z= np.arange(16).reshape(8,2)\n",
    "print(np.vsplit(z,2))"
   ]
  },
  {
   "cell_type": "code",
   "execution_count": 17,
   "metadata": {},
   "outputs": [
    {
     "data": {
      "text/plain": [
       "['n', 't', 'y', ' ', 'p', 'y', 't']"
      ]
     },
     "execution_count": 17,
     "metadata": {},
     "output_type": "execute_result"
    }
   ],
   "source": [
    "a = ['m','o','n','t','y',' ','p', 'y','t','h','o','n']\n",
    "a[2:9]"
   ]
  },
  {
   "cell_type": "code",
   "execution_count": 25,
   "metadata": {},
   "outputs": [
    {
     "data": {
      "text/plain": [
       "array([[1, 2]])"
      ]
     },
     "execution_count": 25,
     "metadata": {},
     "output_type": "execute_result"
    }
   ],
   "source": [
    "ar1 = np.array([[1,2,3],[4,5,6],[7,8,9]])\n",
    "#Printing the first two elements of the first row\n",
    "ar1[:1, :2]\n"
   ]
  },
  {
   "cell_type": "code",
   "execution_count": 26,
   "metadata": {},
   "outputs": [
    {
     "data": {
      "text/plain": [
       "array([[2, 3]])"
      ]
     },
     "execution_count": 26,
     "metadata": {},
     "output_type": "execute_result"
    }
   ],
   "source": [
    "#Printing the last two elements of the first row\n",
    "ar1[:1, 1:]"
   ]
  },
  {
   "cell_type": "code",
   "execution_count": 10,
   "metadata": {},
   "outputs": [
    {
     "name": "stdout",
     "output_type": "stream",
     "text": [
      "Size of a list:  28000\n",
      "Size of a numpy array:  4000\n"
     ]
    }
   ],
   "source": [
    "import numpy as np\n",
    "import sys\n",
    "\n",
    "#Defining a list\n",
    "l = range(1000)\n",
    "print(\"Size of a list: \", sys.getsizeof(1)*len(l))\n",
    "\n",
    "#Defining a numpy array\n",
    "a = np.arange(1000)\n",
    "print(\"Size of a numpy array: \", a.size*a.itemsize)"
   ]
  },
  {
   "cell_type": "code",
   "execution_count": 15,
   "metadata": {},
   "outputs": [
    {
     "name": "stdout",
     "output_type": "stream",
     "text": [
      "Time taken by lists: 0.0019941329956054688\n",
      "Time taken by numpy:  0.000997304916381836\n",
      "Therefore using numpy is 1.9995218742529286times faster than using a list\n"
     ]
    }
   ],
   "source": [
    "#Speed comparision, numpy vs list\n",
    "import time\n",
    "def using_list():\n",
    "    t1 = time.time()   #Starting/Initial time\n",
    "    X = range (10000)\n",
    "    Y = range (10000)\n",
    "    z = [X[i]+Y[i] for i in range (len(X))]\n",
    "    return time.time() - t1  #time.time() means return time after the statements above have been processed minus initial time\n",
    "    \n",
    "def using_numpy():\n",
    "    t1 = time.time()\n",
    "    a = np.arange(10000)\n",
    "    b = np.arange(10000)\n",
    "    z = a+b \n",
    "    return time.time() - t1\n",
    "\n",
    "#Calling these functions:\n",
    "list_time = using_list()\n",
    "numpy_time = using_numpy()\n",
    "print (\"Time taken by lists:\", list_time)\n",
    "print(\"Time taken by numpy: \", numpy_time)\n",
    "print(\"Therefore using numpy is \" +str(list_time/numpy_time)+ \"times faster than using a list\")\n"
   ]
  },
  {
   "cell_type": "code",
   "execution_count": null,
   "metadata": {},
   "outputs": [],
   "source": []
  }
 ],
 "metadata": {
  "kernelspec": {
   "display_name": "Python 3",
   "language": "python",
   "name": "python3"
  },
  "language_info": {
   "codemirror_mode": {
    "name": "ipython",
    "version": 3
   },
   "file_extension": ".py",
   "mimetype": "text/x-python",
   "name": "python",
   "nbconvert_exporter": "python",
   "pygments_lexer": "ipython3",
   "version": "3.9.6"
  },
  "orig_nbformat": 4,
  "vscode": {
   "interpreter": {
    "hash": "52634da84371cba311ea128a5ea7cdc41ff074b781779e754b270ff9f8153cee"
   }
  }
 },
 "nbformat": 4,
 "nbformat_minor": 2
}
